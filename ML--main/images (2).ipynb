{
  "nbformat": 4,
  "nbformat_minor": 0,
  "metadata": {
    "colab": {
      "provenance": []
    },
    "kernelspec": {
      "name": "python3",
      "display_name": "Python 3"
    },
    "language_info": {
      "name": "python"
    }
  },
  "cells": [
    {
      "cell_type": "code",
      "execution_count": null,
      "metadata": {
        "id": "ASkb3mdOT0YD"
      },
      "outputs": [],
      "source": [
        "from pathlib import Path\n",
        "import matplotlib.pyplot as plt\n",
        "import numpy as np\n",
        "%matplotlib notebook\n",
        "from sklearn import svm, metrics, datasets\n",
        "from sklearn.utils import Bunch\n",
        "from sklearn.model_selection import GridSearchCV, train_test_split\n",
        "\n",
        "from skimage.io import imread\n",
        "from skimage.transform import resize\n",
        "from PIL import Image\n",
        "import cv2"
      ]
    },
    {
      "cell_type": "code",
      "source": [
        "def load_image_files(container_path, dimension=(64, 64)):\n",
        "  image_dir = Path(container_path)\n",
        "  folders = [directory for directory in image_dir.iterdir() if directory.is_dir()]\n",
        "  categories = [fo.name for fo in folders]\n",
        "  \n",
        "  descr = \"A image classification dataset\"\n",
        "  images = []\n",
        "  flat_data = []\n",
        "  target = []\n",
        "  for i, direc in enumerate(folders):\n",
        "    for file in direc.iterdir():\n",
        "      img = imread(file)\n",
        "      img_resized = resize(img, dimension, anti_aliasing=True, mode='reflect')\n",
        "      flat_data.append(img_resized.flatten())\n",
        "      images.append(img_resized)\n",
        "      target.append(i)\n",
        "    flat_data = np.array(flat_data)\n",
        "    target = np.array(target)\n",
        "    images = np.array(images)\n",
        "    \n",
        "    return Bunch(data=flat_data,\n",
        "                 target=target,\n",
        "                 target_names=categories,\n",
        "                 images=images,\n",
        "                 DESCR=descr)"
      ],
      "metadata": {
        "id": "Syd6cHdJT2-U"
      },
      "execution_count": null,
      "outputs": []
    },
    {
      "cell_type": "code",
      "source": [
        "pwd"
      ],
      "metadata": {
        "colab": {
          "base_uri": "https://localhost:8080/",
          "height": 36
        },
        "id": "d2KkbZ32UXHF",
        "outputId": "14634f4e-0658-4375-d4a0-0aad8698567a"
      },
      "execution_count": null,
      "outputs": [
        {
          "output_type": "execute_result",
          "data": {
            "text/plain": [
              "'/content'"
            ],
            "application/vnd.google.colaboratory.intrinsic+json": {
              "type": "string"
            }
          },
          "metadata": {},
          "execution_count": 3
        }
      ]
    },
    {
      "cell_type": "code",
      "source": [
        "!unzip images.zip"
      ],
      "metadata": {
        "colab": {
          "base_uri": "https://localhost:8080/"
        },
        "id": "hDtf1aR5WeLt",
        "outputId": "8e886022-64ea-4d1d-f518-9c494fb84508"
      },
      "execution_count": null,
      "outputs": [
        {
          "output_type": "stream",
          "name": "stdout",
          "text": [
            "Archive:  images.zip\n",
            "   creating: images/\n",
            "   creating: images/dalmatian/\n",
            "  inflating: images/dalmatian/image_0001.jpg  \n",
            "  inflating: images/dalmatian/image_0002.jpg  \n",
            "  inflating: images/dalmatian/image_0003.jpg  \n",
            "  inflating: images/dalmatian/image_0004.jpg  \n",
            "  inflating: images/dalmatian/image_0005.jpg  \n",
            "  inflating: images/dalmatian/image_0006.jpg  \n",
            "  inflating: images/dalmatian/image_0007.jpg  \n",
            "  inflating: images/dalmatian/image_0008.jpg  \n",
            "  inflating: images/dalmatian/image_0009.jpg  \n",
            "  inflating: images/dalmatian/image_0010.jpg  \n",
            "  inflating: images/dalmatian/image_0011.jpg  \n",
            "  inflating: images/dalmatian/image_0012.jpg  \n",
            "  inflating: images/dalmatian/image_0013.jpg  \n",
            "  inflating: images/dalmatian/image_0014.jpg  \n",
            "  inflating: images/dalmatian/image_0015.jpg  \n",
            "  inflating: images/dalmatian/image_0016.jpg  \n",
            "  inflating: images/dalmatian/image_0017.jpg  \n",
            "  inflating: images/dalmatian/image_0018.jpg  \n",
            "  inflating: images/dalmatian/image_0019.jpg  \n",
            "  inflating: images/dalmatian/image_0020.jpg  \n",
            "  inflating: images/dalmatian/image_0021.jpg  \n",
            "  inflating: images/dalmatian/image_0022.jpg  \n",
            "  inflating: images/dalmatian/image_0023.jpg  \n",
            "  inflating: images/dalmatian/image_0024.jpg  \n",
            "  inflating: images/dalmatian/image_0025.jpg  \n",
            "  inflating: images/dalmatian/image_0026.jpg  \n",
            "  inflating: images/dalmatian/image_0027.jpg  \n",
            "  inflating: images/dalmatian/image_0028.jpg  \n",
            "  inflating: images/dalmatian/image_0029.jpg  \n",
            "  inflating: images/dalmatian/image_0030.jpg  \n",
            "  inflating: images/dalmatian/image_0031.jpg  \n",
            "  inflating: images/dalmatian/image_0032.jpg  \n",
            "  inflating: images/dalmatian/image_0033.jpg  \n",
            "  inflating: images/dalmatian/image_0034.jpg  \n",
            "  inflating: images/dalmatian/image_0035.jpg  \n",
            "  inflating: images/dalmatian/image_0036.jpg  \n",
            "  inflating: images/dalmatian/image_0037.jpg  \n",
            "  inflating: images/dalmatian/image_0038.jpg  \n",
            "  inflating: images/dalmatian/image_0039.jpg  \n",
            "  inflating: images/dalmatian/image_0040.jpg  \n",
            "  inflating: images/dalmatian/image_0041.jpg  \n",
            "  inflating: images/dalmatian/image_0042.jpg  \n",
            "  inflating: images/dalmatian/image_0043.jpg  \n",
            "  inflating: images/dalmatian/image_0044.jpg  \n",
            "  inflating: images/dalmatian/image_0045.jpg  \n",
            "  inflating: images/dalmatian/image_0046.jpg  \n",
            "  inflating: images/dalmatian/image_0047.jpg  \n",
            "  inflating: images/dalmatian/image_0048.jpg  \n",
            "  inflating: images/dalmatian/image_0049.jpg  \n",
            "  inflating: images/dalmatian/image_0050.jpg  \n",
            "  inflating: images/dalmatian/image_0051.jpg  \n",
            "  inflating: images/dalmatian/image_0052.jpg  \n",
            "  inflating: images/dalmatian/image_0053.jpg  \n",
            "  inflating: images/dalmatian/image_0054.jpg  \n",
            "  inflating: images/dalmatian/image_0055.jpg  \n",
            "  inflating: images/dalmatian/image_0056.jpg  \n",
            "  inflating: images/dalmatian/image_0057.jpg  \n",
            "  inflating: images/dalmatian/image_0058.jpg  \n",
            "  inflating: images/dalmatian/image_0059.jpg  \n",
            "  inflating: images/dalmatian/image_0060.jpg  \n",
            "  inflating: images/dalmatian/image_0061.jpg  \n",
            "  inflating: images/dalmatian/image_0062.jpg  \n",
            "  inflating: images/dalmatian/image_0063.jpg  \n",
            "  inflating: images/dalmatian/image_0064.jpg  \n",
            "  inflating: images/dalmatian/image_0065.jpg  \n",
            "  inflating: images/dalmatian/image_0066.jpg  \n",
            "  inflating: images/dalmatian/image_0067.jpg  \n",
            "   creating: images/dollar_bill/\n",
            "  inflating: images/dollar_bill/image_0001.jpg  \n",
            "  inflating: images/dollar_bill/image_0002.jpg  \n",
            "  inflating: images/dollar_bill/image_0003.jpg  \n",
            "  inflating: images/dollar_bill/image_0004.jpg  \n",
            "  inflating: images/dollar_bill/image_0005.jpg  \n",
            "  inflating: images/dollar_bill/image_0006.jpg  \n",
            "  inflating: images/dollar_bill/image_0007.jpg  \n",
            "  inflating: images/dollar_bill/image_0008.jpg  \n",
            "  inflating: images/dollar_bill/image_0009.jpg  \n",
            "  inflating: images/dollar_bill/image_0010.jpg  \n",
            "  inflating: images/dollar_bill/image_0011.jpg  \n",
            "  inflating: images/dollar_bill/image_0012.jpg  \n",
            "  inflating: images/dollar_bill/image_0013.jpg  \n",
            "  inflating: images/dollar_bill/image_0014.jpg  \n",
            "  inflating: images/dollar_bill/image_0015.jpg  \n",
            "  inflating: images/dollar_bill/image_0016.jpg  \n",
            "  inflating: images/dollar_bill/image_0017.jpg  \n",
            "  inflating: images/dollar_bill/image_0018.jpg  \n",
            "  inflating: images/dollar_bill/image_0020.jpg  \n",
            "  inflating: images/dollar_bill/image_0021.jpg  \n",
            "  inflating: images/dollar_bill/image_0022.jpg  \n",
            "  inflating: images/dollar_bill/image_0023.jpg  \n",
            "  inflating: images/dollar_bill/image_0024.jpg  \n",
            "  inflating: images/dollar_bill/image_0025.jpg  \n",
            "  inflating: images/dollar_bill/image_0026.jpg  \n",
            "  inflating: images/dollar_bill/image_0027.jpg  \n",
            "  inflating: images/dollar_bill/image_0028.jpg  \n",
            "  inflating: images/dollar_bill/image_0029.jpg  \n",
            "  inflating: images/dollar_bill/image_0030.jpg  \n",
            "  inflating: images/dollar_bill/image_0031.jpg  \n",
            "  inflating: images/dollar_bill/image_0032.jpg  \n",
            "  inflating: images/dollar_bill/image_0033.jpg  \n",
            "  inflating: images/dollar_bill/image_0034.jpg  \n",
            "  inflating: images/dollar_bill/image_0035.jpg  \n",
            "  inflating: images/dollar_bill/image_0036.jpg  \n",
            "  inflating: images/dollar_bill/image_0037.jpg  \n",
            "  inflating: images/dollar_bill/image_0038.jpg  \n",
            "  inflating: images/dollar_bill/image_0039.jpg  \n",
            "  inflating: images/dollar_bill/image_0040.jpg  \n",
            "  inflating: images/dollar_bill/image_0041.jpg  \n",
            "  inflating: images/dollar_bill/image_0042.jpg  \n",
            "  inflating: images/dollar_bill/image_0043.jpg  \n",
            "  inflating: images/dollar_bill/image_0044.jpg  \n",
            "  inflating: images/dollar_bill/image_0045.jpg  \n",
            "  inflating: images/dollar_bill/image_0046.jpg  \n",
            "  inflating: images/dollar_bill/image_0047.jpg  \n",
            "  inflating: images/dollar_bill/image_0048.jpg  \n",
            "  inflating: images/dollar_bill/image_0049.jpg  \n",
            "  inflating: images/dollar_bill/image_0050.jpg  \n",
            "  inflating: images/dollar_bill/image_0051.jpg  \n",
            "  inflating: images/dollar_bill/image_0052.jpg  \n",
            "  inflating: images/image_0001.jpg   \n",
            "   creating: images/pizza/\n",
            "  inflating: images/pizza/image_0001.jpg  \n",
            "  inflating: images/pizza/image_0002.jpg  \n",
            "  inflating: images/pizza/image_0003.jpg  \n",
            "  inflating: images/pizza/image_0004.jpg  \n",
            "  inflating: images/pizza/image_0005.jpg  \n",
            "  inflating: images/pizza/image_0006.jpg  \n",
            "  inflating: images/pizza/image_0007.jpg  \n",
            "  inflating: images/pizza/image_0008.jpg  \n",
            "  inflating: images/pizza/image_0009.jpg  \n",
            "  inflating: images/pizza/image_0010.jpg  \n",
            "  inflating: images/pizza/image_0011.jpg  \n",
            "  inflating: images/pizza/image_0012.jpg  \n",
            "  inflating: images/pizza/image_0013.jpg  \n",
            "  inflating: images/pizza/image_0014.jpg  \n",
            "  inflating: images/pizza/image_0015.jpg  \n",
            "  inflating: images/pizza/image_0016.jpg  \n",
            "  inflating: images/pizza/image_0017.jpg  \n",
            "  inflating: images/pizza/image_0018.jpg  \n",
            "  inflating: images/pizza/image_0019.jpg  \n",
            "  inflating: images/pizza/image_0020.jpg  \n",
            "  inflating: images/pizza/image_0021.jpg  \n",
            "  inflating: images/pizza/image_0022.jpg  \n",
            "  inflating: images/pizza/image_0023.jpg  \n",
            "  inflating: images/pizza/image_0024.jpg  \n",
            "  inflating: images/pizza/image_0025.jpg  \n",
            "  inflating: images/pizza/image_0026.jpg  \n",
            "  inflating: images/pizza/image_0027.jpg  \n",
            "  inflating: images/pizza/image_0028.jpg  \n",
            "  inflating: images/pizza/image_0029.jpg  \n",
            "  inflating: images/pizza/image_0030.jpg  \n",
            "  inflating: images/pizza/image_0031.jpg  \n",
            "  inflating: images/pizza/image_0032.jpg  \n",
            "  inflating: images/pizza/image_0034.jpg  \n",
            "  inflating: images/pizza/image_0035.jpg  \n",
            "  inflating: images/pizza/image_0036.jpg  \n",
            "  inflating: images/pizza/image_0037.jpg  \n",
            "  inflating: images/pizza/image_0038.jpg  \n",
            "  inflating: images/pizza/image_0039.jpg  \n",
            "  inflating: images/pizza/image_0040.jpg  \n",
            "  inflating: images/pizza/image_0041.jpg  \n",
            "  inflating: images/pizza/image_0042.jpg  \n",
            "  inflating: images/pizza/image_0043.jpg  \n",
            "  inflating: images/pizza/image_0044.jpg  \n",
            "  inflating: images/pizza/image_0045.jpg  \n",
            "  inflating: images/pizza/image_0046.jpg  \n",
            "  inflating: images/pizza/image_0047.jpg  \n",
            "  inflating: images/pizza/image_0048.jpg  \n",
            "  inflating: images/pizza/image_0049.jpg  \n",
            "  inflating: images/pizza/image_0050.jpg  \n",
            "  inflating: images/pizza/image_0051.jpg  \n",
            "  inflating: images/pizza/image_0052.jpg  \n",
            "  inflating: images/pizza/image_0053.jpg  \n",
            "   creating: images/soccer_ball/\n",
            "  inflating: images/soccer_ball/image_0001.jpg  \n",
            "  inflating: images/soccer_ball/image_0005.jpg  \n",
            "  inflating: images/soccer_ball/image_0006.jpg  \n",
            "  inflating: images/soccer_ball/image_0007.jpg  \n",
            "  inflating: images/soccer_ball/image_0008.jpg  \n",
            "  inflating: images/soccer_ball/image_0009.jpg  \n",
            "  inflating: images/soccer_ball/image_0010.jpg  \n",
            "  inflating: images/soccer_ball/image_0011.jpg  \n",
            "  inflating: images/soccer_ball/image_0012.jpg  \n",
            "  inflating: images/soccer_ball/image_0014.jpg  \n",
            "  inflating: images/soccer_ball/image_0015.jpg  \n",
            "  inflating: images/soccer_ball/image_0016.jpg  \n",
            "  inflating: images/soccer_ball/image_0017.jpg  \n",
            "  inflating: images/soccer_ball/image_0020.jpg  \n",
            "  inflating: images/soccer_ball/image_0021.jpg  \n",
            "  inflating: images/soccer_ball/image_0022.jpg  \n",
            "  inflating: images/soccer_ball/image_0023.jpg  \n",
            "  inflating: images/soccer_ball/image_0024.jpg  \n",
            "  inflating: images/soccer_ball/image_0025.jpg  \n",
            "  inflating: images/soccer_ball/image_0027.jpg  \n",
            "  inflating: images/soccer_ball/image_0028.jpg  \n",
            "  inflating: images/soccer_ball/image_0029.jpg  \n",
            "  inflating: images/soccer_ball/image_0030.jpg  \n",
            "  inflating: images/soccer_ball/image_0031.jpg  \n",
            "  inflating: images/soccer_ball/image_0032.jpg  \n",
            "  inflating: images/soccer_ball/image_0033.jpg  \n",
            "  inflating: images/soccer_ball/image_0034.jpg  \n",
            "  inflating: images/soccer_ball/image_0035.jpg  \n",
            "  inflating: images/soccer_ball/image_0036.jpg  \n",
            "  inflating: images/soccer_ball/image_0037.jpg  \n",
            "  inflating: images/soccer_ball/image_0038.jpg  \n",
            "  inflating: images/soccer_ball/image_0039.jpg  \n",
            "  inflating: images/soccer_ball/image_0040.jpg  \n",
            "  inflating: images/soccer_ball/image_0041.jpg  \n",
            "  inflating: images/soccer_ball/image_0042.jpg  \n",
            "  inflating: images/soccer_ball/image_0043.jpg  \n",
            "  inflating: images/soccer_ball/image_0046.jpg  \n",
            "  inflating: images/soccer_ball/image_0047.jpg  \n",
            "  inflating: images/soccer_ball/image_0048.jpg  \n",
            "  inflating: images/soccer_ball/image_0049.jpg  \n",
            "  inflating: images/soccer_ball/image_0050.jpg  \n",
            "  inflating: images/soccer_ball/image_0051.jpg  \n",
            "  inflating: images/soccer_ball/image_0052.jpg  \n",
            "  inflating: images/soccer_ball/image_0053.jpg  \n",
            "  inflating: images/soccer_ball/image_0054.jpg  \n",
            "  inflating: images/soccer_ball/image_0055.jpg  \n",
            "  inflating: images/soccer_ball/image_0056.jpg  \n",
            "  inflating: images/soccer_ball/image_0057.jpg  \n",
            "  inflating: images/soccer_ball/image_0059.jpg  \n",
            "  inflating: images/soccer_ball/image_0060.jpg  \n",
            "  inflating: images/soccer_ball/image_0061.jpg  \n",
            "  inflating: images/soccer_ball/image_0062.jpg  \n",
            "  inflating: images/soccer_ball/image_0063.jpg  \n",
            "  inflating: images/soccer_ball/image_0064.jpg  \n",
            "   creating: images/sunflower/\n",
            "  inflating: images/sunflower/image_0001.jpg  \n",
            "  inflating: images/sunflower/image_0002.jpg  \n",
            "  inflating: images/sunflower/image_0003.jpg  \n",
            "  inflating: images/sunflower/image_0004.jpg  \n",
            "  inflating: images/sunflower/image_0005.jpg  \n",
            "  inflating: images/sunflower/image_0006.jpg  \n",
            "  inflating: images/sunflower/image_0007.jpg  \n",
            "  inflating: images/sunflower/image_0008.jpg  \n",
            "  inflating: images/sunflower/image_0009.jpg  \n",
            "  inflating: images/sunflower/image_0010.jpg  \n",
            "  inflating: images/sunflower/image_0011.jpg  \n",
            "  inflating: images/sunflower/image_0012.jpg  \n",
            "  inflating: images/sunflower/image_0013.jpg  \n",
            "  inflating: images/sunflower/image_0014.jpg  \n",
            "  inflating: images/sunflower/image_0015.jpg  \n",
            "  inflating: images/sunflower/image_0016.jpg  \n",
            "  inflating: images/sunflower/image_0017.jpg  \n",
            "  inflating: images/sunflower/image_0018.jpg  \n",
            "  inflating: images/sunflower/image_0019.jpg  \n",
            "  inflating: images/sunflower/image_0020.jpg  \n",
            "  inflating: images/sunflower/image_0021.jpg  \n",
            "  inflating: images/sunflower/image_0022.jpg  \n",
            "  inflating: images/sunflower/image_0023.jpg  \n",
            "  inflating: images/sunflower/image_0024.jpg  \n",
            "  inflating: images/sunflower/image_0025.jpg  \n",
            "  inflating: images/sunflower/image_0026.jpg  \n",
            "  inflating: images/sunflower/image_0027.jpg  \n",
            "  inflating: images/sunflower/image_0028.jpg  \n",
            "  inflating: images/sunflower/image_0029.jpg  \n",
            "  inflating: images/sunflower/image_0030.jpg  \n",
            "  inflating: images/sunflower/image_0031.jpg  \n",
            "  inflating: images/sunflower/image_0032.jpg  \n",
            "  inflating: images/sunflower/image_0033.jpg  \n",
            "  inflating: images/sunflower/image_0034.jpg  \n",
            "  inflating: images/sunflower/image_0035.jpg  \n",
            "  inflating: images/sunflower/image_0036.jpg  \n",
            "  inflating: images/sunflower/image_0037.jpg  \n",
            "  inflating: images/sunflower/image_0038.jpg  \n",
            "  inflating: images/sunflower/image_0039.jpg  \n",
            "  inflating: images/sunflower/image_0040.jpg  \n",
            "  inflating: images/sunflower/image_0041.jpg  \n",
            "  inflating: images/sunflower/image_0042.jpg  \n",
            "  inflating: images/sunflower/image_0043.jpg  \n",
            "  inflating: images/sunflower/image_0044.jpg  \n",
            "  inflating: images/sunflower/image_0045.jpg  \n",
            "  inflating: images/sunflower/image_0046.jpg  \n",
            "  inflating: images/sunflower/image_0047.jpg  \n",
            "  inflating: images/sunflower/image_0048.jpg  \n",
            "  inflating: images/sunflower/image_0049.jpg  \n",
            "  inflating: images/sunflower/image_0050.jpg  \n",
            "  inflating: images/sunflower/image_0051.jpg  \n",
            "  inflating: images/sunflower/image_0052.jpg  \n",
            "  inflating: images/sunflower/image_0053.jpg  \n",
            "  inflating: images/sunflower/image_0054.jpg  \n",
            "  inflating: images/sunflower/image_0055.jpg  \n",
            "  inflating: images/sunflower/image_0056.jpg  \n",
            "  inflating: images/sunflower/image_0057.jpg  \n",
            "  inflating: images/sunflower/image_0058.jpg  \n",
            "  inflating: images/sunflower/image_0059.jpg  \n",
            "  inflating: images/sunflower/image_0060.jpg  \n",
            "  inflating: images/sunflower/image_0061.jpg  \n",
            "  inflating: images/sunflower/image_0062.jpg  \n",
            "  inflating: images/sunflower/image_0063.jpg  \n",
            "  inflating: images/sunflower/image_0064.jpg  \n",
            "  inflating: images/sunflower/image_0065.jpg  \n",
            "  inflating: images/sunflower/image_0066.jpg  \n",
            "  inflating: images/sunflower/image_0067.jpg  \n",
            "  inflating: images/sunflower/image_0068.jpg  \n",
            "  inflating: images/sunflower/image_0069.jpg  \n",
            "  inflating: images/sunflower/image_0070.jpg  \n",
            "  inflating: images/sunflower/image_0071.jpg  \n",
            "  inflating: images/sunflower/image_0072.jpg  \n",
            "  inflating: images/sunflower/image_0073.jpg  \n",
            "  inflating: images/sunflower/image_0074.jpg  \n",
            "  inflating: images/sunflower/image_0075.jpg  \n",
            "  inflating: images/sunflower/image_0076.jpg  \n",
            "  inflating: images/sunflower/image_0077.jpg  \n",
            "  inflating: images/sunflower/image_0078.jpg  \n",
            "  inflating: images/sunflower/image_0079.jpg  \n",
            "  inflating: images/sunflower/image_0080.jpg  \n",
            "  inflating: images/sunflower/image_0081.jpg  \n",
            "  inflating: images/sunflower/image_0082.jpg  \n",
            "  inflating: images/sunflower/image_0083.jpg  \n",
            "  inflating: images/sunflower/image_0084.jpg  \n",
            "  inflating: images/sunflower/image_0085.jpg  \n"
          ]
        }
      ]
    },
    {
      "cell_type": "code",
      "source": [
        "image_dataset = load_image_files(\"images\")"
      ],
      "metadata": {
        "id": "G4l3rK0waCtP"
      },
      "execution_count": null,
      "outputs": []
    },
    {
      "cell_type": "code",
      "source": [
        "image_dataset.data"
      ],
      "metadata": {
        "colab": {
          "base_uri": "https://localhost:8080/"
        },
        "id": "ZVTZPE9MaLKB",
        "outputId": "fa89244f-4ec6-410d-b9a4-c88228234f1d"
      },
      "execution_count": null,
      "outputs": [
        {
          "output_type": "execute_result",
          "data": {
            "text/plain": [
              "array([[0.99546828, 0.99546828, 0.99546828, ..., 0.99926251, 0.99926251,\n",
              "        0.99926251],\n",
              "       [0.41080584, 0.44842224, 0.23686647, ..., 0.70257789, 0.72630824,\n",
              "        0.3415638 ],\n",
              "       [0.26976158, 0.13034757, 0.07450484, ..., 0.29611249, 0.16277915,\n",
              "        0.11572033],\n",
              "       ...,\n",
              "       [0.80286696, 0.74787817, 0.61920274, ..., 0.7279091 , 0.70457508,\n",
              "        0.71234575],\n",
              "       [0.17067244, 0.08779238, 0.09804159, ..., 0.33691845, 0.34083949,\n",
              "        0.35580221],\n",
              "       [0.5511861 , 0.5511861 , 0.5511861 , ..., 0.57081355, 0.57081355,\n",
              "        0.57081355]])"
            ]
          },
          "metadata": {},
          "execution_count": 13
        }
      ]
    },
    {
      "cell_type": "code",
      "source": [
        "X = image_dataset.data\n",
        "y = image_dataset.target"
      ],
      "metadata": {
        "id": "dUlzmqwsaNuK"
      },
      "execution_count": null,
      "outputs": []
    },
    {
      "cell_type": "code",
      "source": [
        "y"
      ],
      "metadata": {
        "id": "weUpj9PQaP_E",
        "colab": {
          "base_uri": "https://localhost:8080/"
        },
        "outputId": "a770e5ab-714d-4856-a7c5-f00293556e54"
      },
      "execution_count": null,
      "outputs": [
        {
          "output_type": "execute_result",
          "data": {
            "text/plain": [
              "array([0, 0, 0, 0, 0, 0, 0, 0, 0, 0, 0, 0, 0, 0, 0, 0, 0, 0, 0, 0, 0, 0,\n",
              "       0, 0, 0, 0, 0, 0, 0, 0, 0, 0, 0, 0, 0, 0, 0, 0, 0, 0, 0, 0, 0, 0,\n",
              "       0, 0, 0, 0, 0, 0, 0, 0, 0, 0, 0, 0, 0, 0, 0, 0, 0, 0, 0, 0, 0, 0,\n",
              "       0])"
            ]
          },
          "metadata": {},
          "execution_count": 15
        }
      ]
    },
    {
      "cell_type": "code",
      "source": [
        "y = image_dataset.target"
      ],
      "metadata": {
        "id": "NWXaK4-naMY1"
      },
      "execution_count": null,
      "outputs": []
    },
    {
      "cell_type": "code",
      "source": [
        "from sklearn.model_selection import train_test_split\n",
        "X_train,X_test,y_train,y_test = train_test_split(X,y)"
      ],
      "metadata": {
        "id": "nAwDe5GNbySY"
      },
      "execution_count": null,
      "outputs": []
    },
    {
      "cell_type": "code",
      "source": [],
      "metadata": {
        "id": "0iJdvPyGb1Ze"
      },
      "execution_count": null,
      "outputs": []
    }
  ]
}